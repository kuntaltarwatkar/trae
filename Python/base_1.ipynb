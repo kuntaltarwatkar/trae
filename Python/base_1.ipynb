from collections import deque
def solution(n, t, m, p):
    answer = ''
    q = deque()
    q.append(0)
    i = 0
    while len(answer) < t:
        num = q.popleft()
        if i == p-1:
            answer += str(num)
        i = (i+1) % m
fro